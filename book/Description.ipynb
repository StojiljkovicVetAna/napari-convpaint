{
 "cells": [
  {
   "cell_type": "markdown",
   "metadata": {},
   "source": [
    "# Description\n",
    "Random Forest Classifiers are very powerful machine learning tools for image segmentation. The most famous example of it is the very popular open source software [Ilastik](https://www.ilastik.org/). There are also popular napari plugins to perform this tasks in napari, such as [napari-apoc](https://github.com/haesleinhuepf/napari-accelerated-pixel-and-object-classification) by Robert Haase. \n",
    "\n",
    "The first step for each machine learning process is the extraction of some features that are later used in the random forest for the classification of each pixel. This features are extracted by applying filters on the images at different scales and extracting information such as pixel color, intensity, texture, edge properties etc. Usually the users has to setup the number of features to be extracted and this step will determine the computational power needed.\n",
    "\n",
    "The innovation in convpaint is the use of a convolutional neural network (CNN) to extract those features. Therefore the name \"conv\" for convolutional and \"paint\" because the user has to provide sparse annotation in order for the model to be trained.\n",
    "\n",
    "The advantage of this approach is that the user has no longer to pre-determine the mathematical operations (filters) that will be computed to extract the features. In fact, sometimes the user doesn't have the knowledge to decide which and how many are the most important features, or it would need a long and tedious study to determine that. Instead we let the model decide what are the most important features based on its training on a huge amount of images. In particular, we implemented for example VGG16, a CNN which was trained on ImageNet, an image dataset containing millions of annotated images.\n",
    "\n",
    "For the moment the plugin uses VGG16, but the way it is built makes it easy to use different CNNs in the future.\n",
    "\n",
    "The advantage of using convpaint instead of the CNN itself is the computational power needed. In fact running the entire model will be very computationally heavy and in most cases it is not necessary for the classical image segmentation tasks that are the base of each image analysis workflow. Therefore we use the model only to extract features and later we run a random forest classifier which makes this plugin very fast. In this way we have built a very powerful and stable segmentation tool, which can be easily added to any workflow.\n",
    "\n",
    "\n",
    "\n",
    "\n",
    "\n"
   ]
  },
  {
   "cell_type": "markdown",
   "metadata": {},
   "source": [
    "# Contribution\n",
    "\n",
    "The idea behind this napari plugin was first developed by Lucien Hinderling in the group of [Olivier Pertz](https://www.pertzlab.net/), at the Institute of Cell Biology, University of Bern. The code has first been shared as open source resource in form of a [Jupyter Notebook](https://github.com/hinderling/napari_pixel_classifier). Nevertheless, the use of such a resource was limited to scientist with a background in python programming. With this in mind, and with the desire to make this resource accessible to a broader public in the scientific community, Olivier and Lucien applied for a Chan Zuckerberg Initiative Grant with the title [\"Democratizing Image Analysis with an Easy-to-Train Classifier\"](https://chanzuckerberg.com/science/programs-resources/imaging/napari/democratizing-image-analysis-with-an-easy-to-train-classifier/). The grant supports the development of the napari-convpaint plugin in collaboration with Guillaume Witz, Mykhailo Vladymyrov and Ana Stojiljkovic at the [Data Science Lab](https://www.dsl.unibe.ch/), University of Bern."
   ]
  },
  {
   "cell_type": "code",
   "execution_count": null,
   "metadata": {},
   "outputs": [],
   "source": []
  }
 ],
 "metadata": {
  "language_info": {
   "name": "python"
  }
 },
 "nbformat": 4,
 "nbformat_minor": 2
}
