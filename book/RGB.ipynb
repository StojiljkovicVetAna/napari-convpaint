{
 "cells": [
  {
   "cell_type": "markdown",
   "metadata": {},
   "source": [
    "# RGB images\n",
    "\n",
    "As the default model VGG16 was trained on a huge variety of natural images and non specifically on microscopy data, any image you can think of can be segmented with napari-convpaint.\n",
    "\n",
    "Here for example we segmented the pattern of the floor in the Main Building of University of Bern, where the plugin has been developed.\n",
    "\n",
    "The model is not limited to background and foreground, instead multiple classes can be annotated and predicted."
   ]
  },
  {
   "cell_type": "markdown",
   "metadata": {},
   "source": [
    "<video width=\"620\" controls \n",
    "        src=../images/HB_Floor_movie.webm\n",
    "        type=video/webm> \n",
    "</video>"
   ]
  },
  {
   "cell_type": "markdown",
   "metadata": {},
   "source": [
    "In this other example we segment 5 different classes of a more complex floor pattern. The training and prediction for more classes might take a little bit longer, but the prediction is incredible considering the very small number of annotated pixels."
   ]
  },
  {
   "cell_type": "markdown",
   "metadata": {},
   "source": [
    "<video width=\"620\" controls \n",
    "        src=../images/5classes.webm\n",
    "        type=video/webm> \n",
    "</video>"
   ]
  },
  {
   "cell_type": "markdown",
   "metadata": {},
   "source": [
    "To speed up the process there are different approaches, as for example downsampling the image, which results in a loss of prediction accuracy, or using GPU processing. For more details, please refer to the \"In-depth explanations\"  "
   ]
  },
  {
   "cell_type": "markdown",
   "metadata": {},
   "source": []
  }
 ],
 "metadata": {
  "language_info": {
   "name": "python"
  }
 },
 "nbformat": 4,
 "nbformat_minor": 2
}
